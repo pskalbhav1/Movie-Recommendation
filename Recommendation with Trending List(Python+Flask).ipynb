{
 "cells": [
  {
   "cell_type": "code",
   "execution_count": 1,
   "metadata": {},
   "outputs": [],
   "source": [
    "import numpy as np\n",
    "import pandas as pd\n",
    "from sklearn.feature_extraction.text import CountVectorizer\n",
    "from sklearn.metrics.pairwise import cosine_similarity\n"
   ]
  },
  {
   "cell_type": "code",
   "execution_count": 2,
   "metadata": {},
   "outputs": [],
   "source": [
    "import flask"
   ]
  },
  {
   "cell_type": "code",
   "execution_count": 3,
   "metadata": {},
   "outputs": [],
   "source": [
    "app = flask.Flask(__name__, template_folder='templates')"
   ]
  },
  {
   "cell_type": "code",
   "execution_count": 4,
   "metadata": {},
   "outputs": [],
   "source": [
    "df1 = pd.read_csv(\"movie_dataset.csv\")\n",
    "\n",
    "all_titles = [df1['title'][i] for i in range(len(df1['title']))]\n",
    "\n",
    "features = ['keywords','cast','genres','director']\n",
    "\n",
    "def combine_features(row):\n",
    "    return row['keywords']+\" \"+row['cast']+\" \"+row['genres']+\" \"+row['director']\n",
    "\n",
    "for feature in features:\n",
    "    df1[feature] = df1[feature].fillna('') #filling all NaNs with blank string\n",
    "\n",
    "df1[\"combined_features\"] = df1.apply(combine_features,axis=1) #applying combined_features() method over each rows of dataframe and storing the combined string in \"combined_features\" column\n"
   ]
  },
  {
   "cell_type": "code",
   "execution_count": 5,
   "metadata": {},
   "outputs": [],
   "source": [
    "cv = CountVectorizer() #creating new CountVectorizer() object\n",
    "count_matrix = cv.fit_transform(df1[\"combined_features\"]) #feeding combined strings(movie contents) to CountVectorizer() object\n",
    "indices = pd.Series(df1.index, index=df1['title'])\n",
    "\n",
    "cosine_sim = cosine_similarity(count_matrix)\n",
    "\n",
    "df1 = df1.reset_index()\n",
    "\n",
    "def get_recommendations(title):\n",
    "    cosine_sim = cosine_similarity(count_matrix)\n",
    "    idx = indices[title]\n",
    "    similar_movies = list(enumerate(cosine_sim[idx])) #accessing the row corresponding to given movie to find all the similarity scores for that movie and then enumerating over it\n",
    "    sim_scores = sorted(similar_movies,key=lambda x:x[1],reverse=True)\n",
    "    sim_scores = sim_scores[1:11]\n",
    "    movie_indices = [i[0] for i in sim_scores]\n",
    "    tit = df1['title'].iloc[movie_indices]\n",
    "    dat = df1['overview'].iloc[movie_indices]\n",
    "    dire = df1['director'].iloc[movie_indices]\n",
    "    cas = df1['cast'].iloc[movie_indices]\n",
    "    vote_avg = df1['vote_average'].iloc[movie_indices]\n",
    "    genre = df1['genres'].iloc[movie_indices]\n",
    "    link = df1['homepage'].iloc[movie_indices]\n",
    "    return_df1 = pd.DataFrame(columns=['title','overview','director','cast','vote_average','genres','homepage'])\n",
    "    return_df1['title'] = tit\n",
    "    return_df1['overview'] = dat\n",
    "    return_df1['director'] = dire\n",
    "    return_df1['cast'] = cas\n",
    "    return_df1['vote_average'] = vote_avg\n",
    "    return_df1['genres'] = genre\n",
    "    return_df1['homepage'] = link\n",
    "    return return_df1"
   ]
  },
  {
   "cell_type": "code",
   "execution_count": 6,
   "metadata": {},
   "outputs": [],
   "source": [
    "def trending():\n",
    "    \n",
    "    sim_scores=df1.groupby('title')['vote_average'].count().sort_values(ascending=False)\n",
    "    sim_scores = indices[all_titles] \n",
    "    movie_indices = sim_scores[0:5]\n",
    "    tit = df1['title'].iloc[movie_indices]\n",
    "    genre = df1['genres'].iloc[movie_indices]\n",
    "    \n",
    "    return_df = pd.DataFrame(columns=['title','genres'])\n",
    "    return_df['title'] = tit\n",
    "    \n",
    "    return_df['genres'] = genre\n",
    "    \n",
    "    return return_df"
   ]
  },
  {
   "cell_type": "code",
   "execution_count": null,
   "metadata": {},
   "outputs": [
    {
     "name": "stdout",
     "output_type": "stream",
     "text": [
      " * Serving Flask app \"__main__\" (lazy loading)\n",
      " * Environment: production\n",
      "   WARNING: This is a development server. Do not use it in a production deployment.\n",
      "   Use a production WSGI server instead.\n",
      " * Debug mode: off\n"
     ]
    },
    {
     "name": "stderr",
     "output_type": "stream",
     "text": [
      " * Running on http://127.0.0.1:5000/ (Press CTRL+C to quit)\n",
      "127.0.0.1 - - [09/Jul/2020 14:28:13] \"\u001b[37mGET / HTTP/1.1\u001b[0m\" 200 -\n",
      "127.0.0.1 - - [09/Jul/2020 14:28:22] \"\u001b[37mPOST / HTTP/1.1\u001b[0m\" 200 -\n"
     ]
    }
   ],
   "source": [
    "# Set up the main route\n",
    "@app.route('/', methods=['GET', 'POST'])\n",
    "\n",
    "def main():\n",
    "    if flask.request.method == 'GET':\n",
    "        names = []\n",
    "        links = []\n",
    "        result_final = trending()\n",
    "        for i in range(len(result_final)):\n",
    "            names.append(result_final.iloc[i][0])\n",
    "            links.append(result_final.iloc[i][1])\n",
    "        return flask.render_template('index.html',movie_names=names,movie_links=links)\n",
    "        \n",
    "       \n",
    "            \n",
    "    if flask.request.method == 'POST':\n",
    "        m_name = flask.request.form['movie_name']\n",
    "        m_name = m_name.title()\n",
    "        \n",
    "        if m_name not in all_titles:\n",
    "            return flask.render_template('negative.html',name=m_name)\n",
    "        else:\n",
    "            result_final = get_recommendations(m_name)\n",
    "            names = []\n",
    "            dates = []\n",
    "            director = []\n",
    "            cast = []\n",
    "            rating = []\n",
    "            genres = []\n",
    "            links = []\n",
    "            for i in range(len(result_final)):\n",
    "                names.append(result_final.iloc[i][0])\n",
    "                dates.append(result_final.iloc[i][1])\n",
    "                director.append(result_final.iloc[i][2])\n",
    "                cast.append(result_final.iloc[i][3])\n",
    "                rating.append(result_final.iloc[i][4])\n",
    "                genres.append(result_final.iloc[i][5])\n",
    "                links.append(result_final.iloc[i][6])\n",
    "\n",
    "            return flask.render_template('positive.html',movie_names=names,movie_date=dates,movie_director=director,movie_cast=cast,movie_rating=rating,movie_genres=genres,movie_links=links,search_name=m_name)\n",
    "\n",
    "        \n",
    "if __name__ == '__main__':\n",
    "    app.run()"
   ]
  },
  {
   "cell_type": "code",
   "execution_count": null,
   "metadata": {},
   "outputs": [],
   "source": []
  },
  {
   "cell_type": "code",
   "execution_count": null,
   "metadata": {},
   "outputs": [],
   "source": []
  }
 ],
 "metadata": {
  "kernelspec": {
   "display_name": "Python 3",
   "language": "python",
   "name": "python3"
  },
  "language_info": {
   "codemirror_mode": {
    "name": "ipython",
    "version": 3
   },
   "file_extension": ".py",
   "mimetype": "text/x-python",
   "name": "python",
   "nbconvert_exporter": "python",
   "pygments_lexer": "ipython3",
   "version": "3.8.3"
  }
 },
 "nbformat": 4,
 "nbformat_minor": 4
}
